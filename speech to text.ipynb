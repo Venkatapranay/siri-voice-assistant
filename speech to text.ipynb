{
 "cells": [
  {
   "cell_type": "code",
   "execution_count": null,
   "id": "bfeb94cd",
   "metadata": {},
   "outputs": [],
   "source": []
  },
  {
   "cell_type": "code",
   "execution_count": null,
   "id": "4e00916f",
   "metadata": {},
   "outputs": [],
   "source": [
    "pip install SpeechRecognition"
   ]
  },
  {
   "cell_type": "code",
   "execution_count": 1,
   "id": "ff983814",
   "metadata": {},
   "outputs": [],
   "source": [
    "import speech_recognition as sr\n"
   ]
  },
  {
   "cell_type": "code",
   "execution_count": 2,
   "id": "10da162d",
   "metadata": {},
   "outputs": [
    {
     "name": "stdout",
     "output_type": "stream",
     "text": [
      "speak:\n",
      "you:  hello world\n"
     ]
    }
   ],
   "source": [
    "#get audio from microphone\n",
    "listener=sr.Recognizer()\n",
    "with sr.Microphone() as source:\n",
    "    print(\"speak:\")\n",
    "    audio=listener.listen(source)\n",
    "# using google speech recognition API to convert audio to text\n",
    "try:\n",
    "    txt=listener.recognize_google(audio)\n",
    "    print(\"you: \",txt)\n",
    "except sr.UnknownValueError:\n",
    "    print(\"could not understand it\")\n",
    "except sr.RequestError as e:\n",
    "    print(\"could not request results\")"
   ]
  },
  {
   "cell_type": "code",
   "execution_count": null,
   "id": "5e1eff5f",
   "metadata": {},
   "outputs": [],
   "source": []
  },
  {
   "cell_type": "code",
   "execution_count": null,
   "id": "9dfe7d9d",
   "metadata": {},
   "outputs": [],
   "source": []
  }
 ],
 "metadata": {
  "kernelspec": {
   "display_name": "Python 3 (ipykernel)",
   "language": "python",
   "name": "python3"
  },
  "language_info": {
   "codemirror_mode": {
    "name": "ipython",
    "version": 3
   },
   "file_extension": ".py",
   "mimetype": "text/x-python",
   "name": "python",
   "nbconvert_exporter": "python",
   "pygments_lexer": "ipython3",
   "version": "3.8.13"
  }
 },
 "nbformat": 4,
 "nbformat_minor": 5
}
